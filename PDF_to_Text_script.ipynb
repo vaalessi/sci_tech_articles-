{
  "nbformat": 4,
  "nbformat_minor": 0,
  "metadata": {
    "colab": {
      "provenance": [],
      "mount_file_id": "1tEvHg34kjsSFRroCZjBLkNXTjRLEOoBs",
      "authorship_tag": "ABX9TyPEI9IeMfOsAUfYl+HJ98ke",
      "include_colab_link": true
    },
    "kernelspec": {
      "name": "python3",
      "display_name": "Python 3"
    },
    "language_info": {
      "name": "python"
    }
  },
  "cells": [
    {
      "cell_type": "markdown",
      "metadata": {
        "id": "view-in-github",
        "colab_type": "text"
      },
      "source": [
        "<a href=\"https://colab.research.google.com/github/vaalessi/sci_tech_articles-/blob/main/PDF_to_Text_script.ipynb\" target=\"_parent\"><img src=\"https://colab.research.google.com/assets/colab-badge.svg\" alt=\"Open In Colab\"/></a>"
      ]
    },
    {
      "cell_type": "code",
      "source": [
        "# Install required libraries\n",
        "!pip install PyPDF2\n",
        "\n",
        "# Import necessary libraries\n",
        "import PyPDF2\n",
        "from google.colab import files\n",
        "import io\n",
        "import re"
      ],
      "metadata": {
        "id": "hQ5GPOW4RtZT",
        "colab": {
          "base_uri": "https://localhost:8080/"
        },
        "outputId": "9326e5ba-6a74-4a19-99a0-754707450235"
      },
      "execution_count": 4,
      "outputs": [
        {
          "output_type": "stream",
          "name": "stdout",
          "text": [
            "Requirement already satisfied: PyPDF2 in /usr/local/lib/python3.10/dist-packages (3.0.1)\n"
          ]
        }
      ]
    },
    {
      "cell_type": "markdown",
      "source": [],
      "metadata": {
        "id": "8qz6WFCKDtir"
      }
    },
    {
      "cell_type": "code",
      "source": [
        "# Function to clean and process text\n",
        "def clean_text(text):\n",
        "    # Remove extra whitespace\n",
        "    text = re.sub(r'\\s+', ' ', text)\n",
        "    # Remove special characters and digits\n",
        "    text = re.sub(r'[^a-zA-Z\\s]', '', text)\n",
        "    # Convert to lowercase\n",
        "    text = text.lower()\n",
        "    return text.strip()\n",
        "\n",
        "# Variable for file upload\n",
        "file_path = '/Integrated Data Analytics Platform 2024 v6 (1).pdf'\n",
        "\n",
        "# Read the PDF file\n",
        "pdf_file = io.BytesIO(open(file_path, 'rb').read())\n",
        "pdf_reader = PyPDF2.PdfReader(pdf_file)\n",
        "\n",
        "# Extract text from all pages\n",
        "text_content = \"\"\n",
        "for page in pdf_reader.pages:\n",
        "    text_content += page.extract_text() + \"\\n\"\n",
        "\n",
        "# Clean the extracted text\n",
        "cleaned_text = clean_text(text_content)\n",
        "\n",
        "# Save the cleaned text to a file\n",
        "output_filename = \"extracted_text.txt\"\n",
        "with open(output_filename, \"w\", encoding=\"utf-8\") as text_file:\n",
        "    text_file.write(cleaned_text)\n",
        "\n",
        "print(f\"Text has been extracted, cleaned, and saved to {output_filename}\")\n",
        "\n",
        "# Download the text file\n",
        "files.download(output_filename)\n"
      ],
      "metadata": {
        "colab": {
          "base_uri": "https://localhost:8080/",
          "height": 34
        },
        "id": "V7YzcnFTDaCB",
        "outputId": "7af33737-765d-45ad-c2cc-f9b376d731c4"
      },
      "execution_count": 6,
      "outputs": [
        {
          "output_type": "stream",
          "name": "stdout",
          "text": [
            "Text has been extracted, cleaned, and saved to extracted_text.txt\n"
          ]
        },
        {
          "output_type": "display_data",
          "data": {
            "text/plain": [
              "<IPython.core.display.Javascript object>"
            ],
            "application/javascript": [
              "\n",
              "    async function download(id, filename, size) {\n",
              "      if (!google.colab.kernel.accessAllowed) {\n",
              "        return;\n",
              "      }\n",
              "      const div = document.createElement('div');\n",
              "      const label = document.createElement('label');\n",
              "      label.textContent = `Downloading \"${filename}\": `;\n",
              "      div.appendChild(label);\n",
              "      const progress = document.createElement('progress');\n",
              "      progress.max = size;\n",
              "      div.appendChild(progress);\n",
              "      document.body.appendChild(div);\n",
              "\n",
              "      const buffers = [];\n",
              "      let downloaded = 0;\n",
              "\n",
              "      const channel = await google.colab.kernel.comms.open(id);\n",
              "      // Send a message to notify the kernel that we're ready.\n",
              "      channel.send({})\n",
              "\n",
              "      for await (const message of channel.messages) {\n",
              "        // Send a message to notify the kernel that we're ready.\n",
              "        channel.send({})\n",
              "        if (message.buffers) {\n",
              "          for (const buffer of message.buffers) {\n",
              "            buffers.push(buffer);\n",
              "            downloaded += buffer.byteLength;\n",
              "            progress.value = downloaded;\n",
              "          }\n",
              "        }\n",
              "      }\n",
              "      const blob = new Blob(buffers, {type: 'application/binary'});\n",
              "      const a = document.createElement('a');\n",
              "      a.href = window.URL.createObjectURL(blob);\n",
              "      a.download = filename;\n",
              "      div.appendChild(a);\n",
              "      a.click();\n",
              "      div.remove();\n",
              "    }\n",
              "  "
            ]
          },
          "metadata": {}
        },
        {
          "output_type": "display_data",
          "data": {
            "text/plain": [
              "<IPython.core.display.Javascript object>"
            ],
            "application/javascript": [
              "download(\"download_206da3bb-9d6e-4c0e-b89e-46827f594331\", \"extracted_text.txt\", 9577)"
            ]
          },
          "metadata": {}
        }
      ]
    },
    {
      "cell_type": "code",
      "source": [],
      "metadata": {
        "id": "txz8h8q1Drbj"
      },
      "execution_count": null,
      "outputs": []
    }
  ]
}